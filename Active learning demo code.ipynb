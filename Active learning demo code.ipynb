{
 "cells": [
  {
   "cell_type": "code",
   "execution_count": null,
   "id": "c042220b",
   "metadata": {},
   "outputs": [],
   "source": [
    "from sklearn.datasets import make_classification\n",
    "from sklearn.ensemble import RandomForestClassifier\n",
    "from sklearn.model_selection import train_test_split\n",
    "from sklearn.metrics import accuracy_score\n",
    "import numpy as np\n",
    "\n",
    "# Generate a random dataset\n",
    "X, y = make_classification(n_samples=1000, n_features=20, n_informative=10, n_redundant=5, random_state=42)\n",
    "\n",
    "# Split the data into a training set and a test set\n",
    "X_train, X_test, y_train, y_test = train_test_split(X, y, test_size=0.2, random_state=42)\n",
    "\n",
    "# Initialize the Active Learning loop\n",
    "model = RandomForestClassifier(n_estimators=100, random_state=42)\n",
    "X_pool = X_train.copy()\n",
    "y_pool = y_train.copy()\n",
    "\n",
    "# Set the number of iterations and batch size for Active Learning\n",
    "n_iterations = 10\n",
    "batch_size = 10\n",
    "\n",
    "for i in range(n_iterations):\n",
    "    # Query the model for the most informative samples\n",
    "    query_idx = np.random.choice(range(len(X_pool)), size=batch_size, replace=False)\n",
    "    X_batch = X_pool[query_idx]\n",
    "    y_batch = y_pool[query_idx]\n",
    "\n",
    "    # Label the selected samples using a human annotator\n",
    "    # ...\n",
    "\n",
    "    # Add the labeled samples to the training set\n",
    "    X_train = np.vstack((X_train, X_batch))\n",
    "    y_train = np.hstack((y_train, y_batch))\n",
    "\n",
    "    # Remove the labeled samples from the pool\n",
    "    X_pool = np.delete(X_pool, query_idx, axis=0)\n",
    "    y_pool = np.delete(y_pool, query_idx)\n",
    "\n",
    "    # Retrain the model on the updated training set\n",
    "    model.fit(X_train, y_train)\n",
    "\n",
    "    # Evaluate the model on the test set\n",
    "    y_pred = model.predict(X_test)\n",
    "    acc = accuracy_score(y_test, y_pred)\n",
    "    print(\"Iteration {}: Test Accuracy: {:.3f}\".format(i+1, acc))\n"
   ]
  }
 ],
 "metadata": {
  "kernelspec": {
   "display_name": "Python 3 (ipykernel)",
   "language": "python",
   "name": "python3"
  },
  "language_info": {
   "codemirror_mode": {
    "name": "ipython",
    "version": 3
   },
   "file_extension": ".py",
   "mimetype": "text/x-python",
   "name": "python",
   "nbconvert_exporter": "python",
   "pygments_lexer": "ipython3",
   "version": "3.9.12"
  }
 },
 "nbformat": 4,
 "nbformat_minor": 5
}
